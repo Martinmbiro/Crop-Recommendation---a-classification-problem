{
  "nbformat": 4,
  "nbformat_minor": 0,
  "metadata": {
    "colab": {
      "provenance": [],
      "authorship_tag": "ABX9TyOoMXm5vaBmXQmoZxkDdUIp"
    },
    "kernelspec": {
      "name": "python3",
      "display_name": "Python 3"
    },
    "language_info": {
      "name": "python"
    }
  },
  "cells": [
    {
      "cell_type": "markdown",
      "source": [
        "## **Crop Recommendation**\n",
        "> Crop recommendations are suggestions / proposals regarding the most suitable crops to grow, based on soil nutrient content, pH, weather conditions, and other factors that impact crop growth.\n",
        "+ The aim is to yield maximum crop production, and subsequently, profits"
      ],
      "metadata": {
        "id": "x8RW-YTqZlt2"
      }
    },
    {
      "cell_type": "markdown",
      "source": [
        "> 💡 **Insight**\n",
        "\n",
        "> Despite being an agriculture-specific task, crop recommendation maps to a well-defined concept in Artificial Intelligence; **classification**. This exercise involves training a model to predict the _category_ in which a crop belongs, hence is a **classification** task."
      ],
      "metadata": {
        "id": "SUnD6UNLUcj1"
      }
    },
    {
      "cell_type": "markdown",
      "source": [
        "### **The dataset**\n",
        "> **Citation:** The dataset used in this exercise is meant for _crop analysis and recommendation_, and can be found on the [`Kaggle`](https://www.kaggle.com/) website [`here`](https://www.kaggle.com/datasets/aksahaha/crop-recommendation)"
      ],
      "metadata": {
        "id": "ahpXijXQWIYP"
      }
    },
    {
      "cell_type": "markdown",
      "source": [
        "> The dataset contains the following columns\n",
        "+ `nitrogen` - Amount of Nitrogen in _kg/ha_ present in the soil\n",
        "+ `phosphorus` - Amount of Phosphorus in _kg/ha_ present in the soil\n",
        "+ `potassium` - Amount of Potassium in _kg/ha_ present in the soil\n",
        "+ `temperature` - Average Temperature in _Celcius_ during the crop's growing period\n",
        "+ `humidity` - The average relative humidity in _percentage_ during the crop's growing period\n",
        "+ `ph` - The soil _pH_ during the crop's growing period\n",
        "+ `rainfall` - The amount of rainfall in _mm_ received during the crop's growing period\n",
        "+ `label` - Represents the type of crop for each entry"
      ],
      "metadata": {
        "id": "VpGUsPQcRFS-"
      }
    },
    {
      "cell_type": "markdown",
      "source": [
        "> 📝 **Note**  \n",
        "\n",
        "> The `label` column is the _label_ _(y value)_ we want to train the model to predict. The rest of the columns are known as _features_ _(x values)_ in Machine Learning lingo  \n",
        "+ The dataset includes `22` crop types, which are `rice`, `maize`, `chickpea`, `kidneybeans`, `pigeonpeas`, `mothbeans`, `mungbean`, `blackgram`, `lentil`, `pomegranate`, `banana`, `mango`, `grapes`, `watermelon`,`muskmelon`, `apple`, `orange`, `papaya`, `coconut`,`cotton`, `jute`, & `coffee`"
      ],
      "metadata": {
        "id": "sek0310JXKT6"
      }
    },
    {
      "cell_type": "markdown",
      "source": [
        "> 💡 **Insight**\n",
        "\n",
        "> Since we have `22` labels from which to predict, this is a _multi-class classification problem_"
      ],
      "metadata": {
        "id": "d1Xm3sJVSCIF"
      }
    },
    {
      "cell_type": "markdown",
      "source": [
        "### **Library Versions**\n",
        "> For the sake of future reference and comparison, I'll print the versions of all the libraries I used for this exercise"
      ],
      "metadata": {
        "id": "Wadk4jz8nyit"
      }
    },
    {
      "cell_type": "code",
      "source": [
        "!pip install catboost"
      ],
      "metadata": {
        "id": "ZnpDVQ6flyLd"
      },
      "execution_count": null,
      "outputs": []
    },
    {
      "cell_type": "code",
      "source": [
        "import pandas as pd\n",
        "import numpy as np\n",
        "import matplotlib\n",
        "import seaborn\n",
        "import catboost\n",
        "import sys"
      ],
      "metadata": {
        "id": "17HhO2iElmnf"
      },
      "execution_count": 2,
      "outputs": []
    },
    {
      "cell_type": "code",
      "source": [
        "print('System version: ',sys.version)\n",
        "print('Numpy version: ',np.__version__)\n",
        "print('Pandas version: ',pd.__version__)\n",
        "print('Seaborn version: ',seaborn.__version__)\n",
        "print('CatBoost version: ',catboost.__version__)\n",
        "print('Matplotlib version: ',matplotlib.__version__)"
      ],
      "metadata": {
        "colab": {
          "base_uri": "https://localhost:8080/"
        },
        "id": "NDCOujBMmEwQ",
        "outputId": "b34e05f0-ea97-4881-c076-bd6c34d0e2b8"
      },
      "execution_count": 4,
      "outputs": [
        {
          "output_type": "stream",
          "name": "stdout",
          "text": [
            "System version:  3.10.12 (main, Jul 29 2024, 16:56:48) [GCC 11.4.0]\n",
            "Numpy version:  1.26.4\n",
            "Pandas version:  2.1.4\n",
            "Seaborn version:  0.13.1\n",
            "CatBoost version:  1.2.6\n",
            "Matplotlib version:  3.7.1\n"
          ]
        }
      ]
    },
    {
      "cell_type": "markdown",
      "source": [
        "> ▶️ **Up Next**  \n",
        "\n",
        "> Exploratory data analyis"
      ],
      "metadata": {
        "id": "MY7tvYreSR_l"
      }
    }
  ]
}